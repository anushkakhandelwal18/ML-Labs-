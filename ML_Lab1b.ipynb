{
 "cells": [
  {
   "cell_type": "code",
   "execution_count": 4,
   "metadata": {},
   "outputs": [
    {
     "name": "stdout",
     "output_type": "stream",
     "text": [
      "    color  toughness fungus appearance  poisonous\n",
      "0    green      hard     no     wrinkle       yes\n",
      "1    green      hard    yes      smooth        no\n",
      "2   brown       soft     no     wrinkle        no\n",
      "3  orange       hard     no     wrinkle       yes\n",
      "4    green     soft     yes      smooth       yes\n",
      "5    green     hard    yes      wrinkle       yes\n",
      "6  orange       hard     no     wrinkle       yes\n"
     ]
    }
   ],
   "source": [
    "import csv\n",
    "import pandas as pd\n",
    "import numpy as np\n",
    "\n",
    "dataset = pd.read_csv('F:\\ML Lab\\Lab-1\\dataset-2.csv')\n",
    "print(dataset)"
   ]
  },
  {
   "cell_type": "code",
   "execution_count": 5,
   "metadata": {},
   "outputs": [
    {
     "name": "stdout",
     "output_type": "stream",
     "text": [
      "[['green' 'hard' 'no' 'wrinkle']\n",
      " [' green' 'hard' 'yes' 'smooth']\n",
      " [' brown ' 'soft' 'no' 'wrinkle']\n",
      " ['orange ' 'hard' 'no' 'wrinkle']\n",
      " ['green' 'soft ' 'yes' 'smooth']\n",
      " ['green' 'hard ' 'yes ' 'wrinkle']\n",
      " ['orange ' 'hard' 'no' 'wrinkle']]\n",
      "['yes' 'no' 'no' 'yes' 'yes' 'yes' 'yes']\n"
     ]
    }
   ],
   "source": [
    "data = np.array(dataset)[:,:-1]\n",
    "print(data)\n",
    "target =np.array(dataset)[:,-1]\n",
    "print(target)"
   ]
  },
  {
   "cell_type": "code",
   "execution_count": 11,
   "metadata": {},
   "outputs": [
    {
     "ename": "UnboundLocalError",
     "evalue": "local variable 'h1' referenced before assignment",
     "output_type": "error",
     "traceback": [
      "\u001b[1;31m---------------------------------------------------------------------------\u001b[0m",
      "\u001b[1;31mUnboundLocalError\u001b[0m                         Traceback (most recent call last)",
      "\u001b[1;32m<ipython-input-11-1052fefed091>\u001b[0m in \u001b[0;36m<module>\u001b[1;34m\u001b[0m\n\u001b[0;32m     13\u001b[0m     \u001b[1;32mreturn\u001b[0m \u001b[0mh1\u001b[0m\u001b[1;33m\u001b[0m\u001b[1;33m\u001b[0m\u001b[0m\n\u001b[0;32m     14\u001b[0m \u001b[1;33m\u001b[0m\u001b[0m\n\u001b[1;32m---> 15\u001b[1;33m \u001b[0mprint\u001b[0m\u001b[1;33m(\u001b[0m\u001b[1;34m\"Final hypothesis is \"\u001b[0m\u001b[1;33m,\u001b[0m\u001b[0mFindS\u001b[0m\u001b[1;33m(\u001b[0m\u001b[0mdata\u001b[0m\u001b[1;33m,\u001b[0m\u001b[0mtarget\u001b[0m\u001b[1;33m)\u001b[0m\u001b[1;33m)\u001b[0m\u001b[1;33m\u001b[0m\u001b[1;33m\u001b[0m\u001b[0m\n\u001b[0m",
      "\u001b[1;32m<ipython-input-11-1052fefed091>\u001b[0m in \u001b[0;36mFindS\u001b[1;34m(d, t)\u001b[0m\n\u001b[0;32m     11\u001b[0m                 \u001b[1;32melse\u001b[0m\u001b[1;33m:\u001b[0m\u001b[1;33m\u001b[0m\u001b[1;33m\u001b[0m\u001b[0m\n\u001b[0;32m     12\u001b[0m                     \u001b[1;32mpass\u001b[0m\u001b[1;33m\u001b[0m\u001b[1;33m\u001b[0m\u001b[0m\n\u001b[1;32m---> 13\u001b[1;33m     \u001b[1;32mreturn\u001b[0m \u001b[0mh1\u001b[0m\u001b[1;33m\u001b[0m\u001b[1;33m\u001b[0m\u001b[0m\n\u001b[0m\u001b[0;32m     14\u001b[0m \u001b[1;33m\u001b[0m\u001b[0m\n\u001b[0;32m     15\u001b[0m \u001b[0mprint\u001b[0m\u001b[1;33m(\u001b[0m\u001b[1;34m\"Final hypothesis is \"\u001b[0m\u001b[1;33m,\u001b[0m\u001b[0mFindS\u001b[0m\u001b[1;33m(\u001b[0m\u001b[0mdata\u001b[0m\u001b[1;33m,\u001b[0m\u001b[0mtarget\u001b[0m\u001b[1;33m)\u001b[0m\u001b[1;33m)\u001b[0m\u001b[1;33m\u001b[0m\u001b[1;33m\u001b[0m\u001b[0m\n",
      "\u001b[1;31mUnboundLocalError\u001b[0m: local variable 'h1' referenced before assignment"
     ]
    }
   ],
   "source": [
    "def FindS(d,t):\n",
    "    for i,val in enumerate(t):\n",
    "        if val =='Yes':\n",
    "            h1 = d[i].copy()\n",
    "        break\n",
    "    for i,val in enumerate(d):\n",
    "        if t[i] == 'Yes':\n",
    "            for x in range(len(h1)):\n",
    "                if val[x]!=h1[x]:\n",
    "                    h1[x]=\"?\"\n",
    "                else:\n",
    "                    pass\n",
    "    return h1\n",
    "                    \n",
    "print(\"Final hypothesis is \",FindS(data,target))           "
   ]
  },
  {
   "cell_type": "code",
   "execution_count": null,
   "metadata": {},
   "outputs": [],
   "source": []
  }
 ],
 "metadata": {
  "kernelspec": {
   "display_name": "Python 3",
   "language": "python",
   "name": "python3"
  },
  "language_info": {
   "codemirror_mode": {
    "name": "ipython",
    "version": 3
   },
   "file_extension": ".py",
   "mimetype": "text/x-python",
   "name": "python",
   "nbconvert_exporter": "python",
   "pygments_lexer": "ipython3",
   "version": "3.8.5"
  }
 },
 "nbformat": 4,
 "nbformat_minor": 4
}
